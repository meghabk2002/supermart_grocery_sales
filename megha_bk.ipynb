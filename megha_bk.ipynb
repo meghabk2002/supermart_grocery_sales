{
  "nbformat": 4,
  "nbformat_minor": 0,
  "metadata": {
    "colab": {
      "provenance": [],
      "authorship_tag": "ABX9TyO1NZvLemCyhlna+Ajd073O",
      "include_colab_link": true
    },
    "kernelspec": {
      "name": "python3",
      "display_name": "Python 3"
    },
    "language_info": {
      "name": "python"
    }
  },
  "cells": [
    {
      "cell_type": "markdown",
      "metadata": {
        "id": "view-in-github",
        "colab_type": "text"
      },
      "source": [
        "<a href=\"https://colab.research.google.com/github/meghabk2002/supermart_grocery_sales/blob/main/megha_bk.ipynb\" target=\"_parent\"><img src=\"https://colab.research.google.com/assets/colab-badge.svg\" alt=\"Open In Colab\"/></a>"
      ]
    },
    {
      "cell_type": "code",
      "execution_count": 2,
      "metadata": {
        "colab": {
          "base_uri": "https://localhost:8080/",
          "height": 86
        },
        "id": "YiDFWXSE8KMA",
        "outputId": "b92cd7ba-d562-4343-a704-a8cdbd099139"
      },
      "outputs": [
        {
          "output_type": "stream",
          "name": "stdout",
          "text": [
            "MAE: 157.08176872682324\n",
            "RMSE: 199.17983347404362\n",
            "R2 Score: 0.28818891798258817\n",
            "Predictions saved to 'rf_predictions.csv'\n"
          ]
        },
        {
          "output_type": "display_data",
          "data": {
            "text/plain": [
              "<IPython.core.display.Javascript object>"
            ],
            "application/javascript": [
              "\n",
              "    async function download(id, filename, size) {\n",
              "      if (!google.colab.kernel.accessAllowed) {\n",
              "        return;\n",
              "      }\n",
              "      const div = document.createElement('div');\n",
              "      const label = document.createElement('label');\n",
              "      label.textContent = `Downloading \"${filename}\": `;\n",
              "      div.appendChild(label);\n",
              "      const progress = document.createElement('progress');\n",
              "      progress.max = size;\n",
              "      div.appendChild(progress);\n",
              "      document.body.appendChild(div);\n",
              "\n",
              "      const buffers = [];\n",
              "      let downloaded = 0;\n",
              "\n",
              "      const channel = await google.colab.kernel.comms.open(id);\n",
              "      // Send a message to notify the kernel that we're ready.\n",
              "      channel.send({})\n",
              "\n",
              "      for await (const message of channel.messages) {\n",
              "        // Send a message to notify the kernel that we're ready.\n",
              "        channel.send({})\n",
              "        if (message.buffers) {\n",
              "          for (const buffer of message.buffers) {\n",
              "            buffers.push(buffer);\n",
              "            downloaded += buffer.byteLength;\n",
              "            progress.value = downloaded;\n",
              "          }\n",
              "        }\n",
              "      }\n",
              "      const blob = new Blob(buffers, {type: 'application/binary'});\n",
              "      const a = document.createElement('a');\n",
              "      a.href = window.URL.createObjectURL(blob);\n",
              "      a.download = filename;\n",
              "      div.appendChild(a);\n",
              "      a.click();\n",
              "      div.remove();\n",
              "    }\n",
              "  "
            ]
          },
          "metadata": {}
        },
        {
          "output_type": "display_data",
          "data": {
            "text/plain": [
              "<IPython.core.display.Javascript object>"
            ],
            "application/javascript": [
              "download(\"download_2f61772a-c5f2-481e-bea7-9007bc46c452\", \"rf_predictions.csv\", 71472)"
            ]
          },
          "metadata": {}
        }
      ],
      "source": [
        "from sklearn.model_selection import train_test_split\n",
        "from sklearn.ensemble import RandomForestRegressor\n",
        "from sklearn.metrics import mean_absolute_error, mean_squared_error, r2_score\n",
        "from sklearn.preprocessing import OneHotEncoder\n",
        "from sklearn.compose import ColumnTransformer\n",
        "from sklearn.pipeline import Pipeline\n",
        "import pandas as pd\n",
        "import numpy as np\n",
        "\n",
        "# Load your data\n",
        "df = pd.read_csv('/content/sample_data/Supermart Grocery Sales - Retail Analytics Dataset.csv')\n",
        "\n",
        "# Preprocessing\n",
        "df['Order Date'] = pd.to_datetime(df['Order Date'], dayfirst=False, errors='coerce')\n",
        "df.dropna(subset=['Order Date'], inplace=True)\n",
        "\n",
        "df['Month'] = df['Order Date'].dt.month\n",
        "df['DayOfWeek'] = df['Order Date'].dt.dayofweek\n",
        "df['Net Sales'] = df['Sales'] * (1 - df['Discount'])\n",
        "df['Profit Margin'] = df['Profit'] / df['Sales']\n",
        "\n",
        "# Features and target\n",
        "X = df[['Category', 'Sub Category', 'Region', 'State', 'Sales', 'Discount', 'Net Sales', 'Month', 'DayOfWeek']]\n",
        "y = df['Profit']\n",
        "\n",
        "# Encoding pipeline\n",
        "categorical = ['Category', 'Sub Category', 'Region', 'State']\n",
        "\n",
        "preprocessor = ColumnTransformer(transformers=[\n",
        "    ('cat', OneHotEncoder(handle_unknown='ignore'), categorical)\n",
        "], remainder='passthrough')\n",
        "\n",
        "model = Pipeline(steps=[\n",
        "    ('preprocessor', preprocessor),\n",
        "    ('regressor', RandomForestRegressor(n_estimators=100, random_state=42))\n",
        "])\n",
        "\n",
        "# Train/test split\n",
        "X_train, X_test, y_train, y_test = train_test_split(X, y, test_size=0.2, random_state=42)\n",
        "\n",
        "# Train & evaluate\n",
        "model.fit(X_train, y_train)\n",
        "y_pred = model.predict(X_test)\n",
        "\n",
        "print(\"MAE:\", mean_absolute_error(y_test, y_pred))\n",
        "print(\"RMSE:\", np.sqrt(mean_squared_error(y_test, y_pred)))\n",
        "print(\"R2 Score:\", r2_score(y_test, y_pred))\n",
        "\n",
        "# Combine predictions with test data for export\n",
        "results_df = X_test.copy()\n",
        "results_df['Actual Profit'] = y_test.values\n",
        "results_df['Predicted Profit'] = y_pred\n",
        "\n",
        "# Export to CSV\n",
        "results_df.to_csv('rf_predictions.csv', index=False)\n",
        "print(\"Predictions saved to 'rf_predictions.csv'\")\n",
        "\n",
        "\n",
        "from google.colab import files\n",
        "files.download('rf_predictions.csv')"
      ]
    }
  ]
}